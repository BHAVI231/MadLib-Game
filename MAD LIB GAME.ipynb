{
 "cells": [
  {
   "cell_type": "code",
   "execution_count": 2,
   "id": "79a590ca",
   "metadata": {},
   "outputs": [
    {
     "name": "stdout",
     "output_type": "stream",
     "text": [
      "enter the namebhavi\n",
      "enter the age33\n",
      "enter the area you from tpt\n",
      "enter the game you likevolley ball\n",
      "enter the behaviourhard \n",
      "enter the you interestdata science\n",
      "my name isbhavi\n",
      "i am 33\n",
      "i am from tpt\n",
      "i love to playvolley ball\n",
      "i am hard \n",
      "i am interested in data science\n"
     ]
    }
   ],
   "source": [
    "name=input(\"enter the name\")\n",
    "age=input(\"enter the age\")\n",
    "loc=input(\"enter the area you from \")\n",
    "game=input(\"enter the game you like\")\n",
    "behaviour=input(\"enter the behaviour\")\n",
    "passion=input(\"enter the you interest\")\n",
    "\n",
    "\n",
    "print(\"my name is\"  + name)\n",
    "#print()\n",
    "print(\"i am \" + age)\n",
    "#print()\n",
    "print(\"i am from \" +loc)\n",
    "#print()\n",
    "print(\"i love to play\" + game)\n",
    "#print()\n",
    "print(\"i am \" + behaviour)\n",
    "#print()\n",
    "print(\"i am interested in \" +passion)\n",
    "        \n"
   ]
  }
 ],
 "metadata": {
  "kernelspec": {
   "display_name": "Python 3 (ipykernel)",
   "language": "python",
   "name": "python3"
  },
  "language_info": {
   "codemirror_mode": {
    "name": "ipython",
    "version": 3
   },
   "file_extension": ".py",
   "mimetype": "text/x-python",
   "name": "python",
   "nbconvert_exporter": "python",
   "pygments_lexer": "ipython3",
   "version": "3.9.7"
  }
 },
 "nbformat": 4,
 "nbformat_minor": 5
}
